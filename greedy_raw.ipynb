{
 "cells": [
  {
   "cell_type": "code",
   "execution_count": 9,
   "metadata": {},
   "outputs": [],
   "source": [
    "import numpy as np \n",
    "import pickle \n",
    "import os \n",
    "import re "
   ]
  },
  {
   "cell_type": "code",
   "execution_count": null,
   "metadata": {},
   "outputs": [],
   "source": [
    "'''\n",
    "Implements a greedy heuristic for hangman given a dictionary of words. \n",
    "Does not generalize to new words. \n",
    "\n",
    "=======================\n",
    "Objects\n",
    "=======================\n",
    "Two dictionaries are used to store the words\n",
    "\n",
    "word_length: {<word> : <length of word>}\n",
    "length_word: {<length>: array([word1, word2, word3, ...])}\n",
    "\n",
    "\n",
    "=======================\n",
    "Methods\n",
    "=======================\n",
    "\n",
    "insert(String word): updates the two dictionaries with a word \n",
    "\n",
    "charFrequency(String[] list): calculates frequency of characters in a list\n",
    "\n",
    "remainingCharFrequency(String[] list, char[] list): removes characters that are already successful \n",
    "\n",
    "remove(char c): remove all words that contain a specified character \n",
    "\n",
    "match(String[] list, regex): returns a list with all regex matches \n",
    "\n",
    "greedy_guess(String[] list): returns the most frequent character from a list of words \n",
    "\n",
    "\n",
    "'''"
   ]
  },
  {
   "cell_type": "code",
   "execution_count": 200,
   "metadata": {},
   "outputs": [],
   "source": [
    "# dictionary = {<String>:<number}\n",
    "word_length = {}\n",
    "length_word = {}"
   ]
  },
  {
   "cell_type": "code",
   "execution_count": 201,
   "metadata": {},
   "outputs": [],
   "source": [
    "def charFrequency(list_of_words): \n",
    "    dict_of_characters = {}\n",
    "    for item in list_of_words: \n",
    "        arr_char = list(item)\n",
    "        for x in arr_char: \n",
    "            dict_of_characters[x] = dict_of_characters.get(x, 0) + 1\n",
    "    return dict_of_characters \n",
    "        "
   ]
  },
  {
   "cell_type": "code",
   "execution_count": 202,
   "metadata": {},
   "outputs": [],
   "source": [
    "def remainingCharFrequency(list_of_words, successful_char): \n",
    "    dict_of_characters = charFrequency(list_of_words)\n",
    "    for char in successful_char:\n",
    "        del dict_of_characters[char]"
   ]
  },
  {
   "cell_type": "code",
   "execution_count": 203,
   "metadata": {},
   "outputs": [],
   "source": [
    "def remove(list_of_words, char):\n",
    "    list_of_matches = []\n",
    "    pattern = r'(.*' + char + '.*)'\n",
    "    for item in list_of_words:\n",
    "        x = re.match(pattern, item)\n",
    "        if x == None:\n",
    "            list_of_matches.append(item)\n",
    "    return list_of_matches"
   ]
  },
  {
   "cell_type": "code",
   "execution_count": 204,
   "metadata": {},
   "outputs": [],
   "source": [
    "def insert(word):\n",
    "    # check if the word is duplicate \n",
    "    a = word_length.get(word, 0)\n",
    "    if a == 0:\n",
    "        N = len(word)\n",
    "        # insert in word_length\n",
    "        word_length[word] = N \n",
    "        # insert in length_word \n",
    "        li1 = length_word.get(N, 0)\n",
    "        if li1 != 0: \n",
    "            li1.append(word)\n",
    "            length_word[N] = li1\n",
    "        else:\n",
    "            length_word[N] = [word]\n"
   ]
  },
  {
   "cell_type": "code",
   "execution_count": 253,
   "metadata": {},
   "outputs": [],
   "source": [
    "def match(list_of_words, pattern):\n",
    "    list_of_matches = []\n",
    "    for item in list_of_words: \n",
    "        x = re.search(pattern, item)\n",
    "        if x != None:\n",
    "            list_of_matches.append(item)\n",
    "    return list_of_matches "
   ]
  },
  {
   "cell_type": "code",
   "execution_count": 206,
   "metadata": {},
   "outputs": [],
   "source": [
    "def greedy_guess(list_of_words):\n",
    "    freq_char = charFrequency(list_of_words)\n",
    "    freq_char_keys = list(freq_char.keys())\n",
    "    freq_char_values = list(freq_char.values())\n",
    "    maxIndex = np.where(freq_char_values == np.amax(freq_char_values))[0]\n",
    "    return freq_char_keys[np.random.choice(maxIndex)]"
   ]
  },
  {
   "cell_type": "code",
   "execution_count": null,
   "metadata": {},
   "outputs": [],
   "source": [
    "'''\n",
    "=================================================\n",
    "HOW TO PLAY HANGMAN WITHOUT PENALTIES \n",
    "=================================================\n",
    "\n",
    "SECRET_WORD = 'hangman'\n",
    "\n",
    ">>>>>>>>>>  SECRET_WORD ONLY HAS LOWER CASE LETTERS <<<<<<<<<\n",
    "\n",
    "INPUT: N = LENGTH OF SECRET_WORD\n",
    "\n",
    "Step 1. list_of_words = length_word[N]\n",
    "\n",
    "Step 2. chars_used = []\n",
    "\n",
    "Step 3. x = greedy_guess(list_of_words)\n",
    "        chars_used.append(x)\n",
    "        if x NOT in SECRET_WORD:\n",
    "            list_of_words = remove(x)\n",
    "        if x in SECRET_WORD:\n",
    "            create pattern \n",
    "            list_of_words = pattern(x)\n",
    "Step 4. repeat Step 3\n",
    "'''"
   ]
  },
  {
   "cell_type": "code",
   "execution_count": 57,
   "metadata": {},
   "outputs": [
    {
     "data": {
      "text/plain": [
       "('asdasda',)"
      ]
     },
     "execution_count": 57,
     "metadata": {},
     "output_type": "execute_result"
    }
   ],
   "source": [
    "SECRET_WORD = 'hangman'\n",
    "n = len(SECRET_WORD)\n",
    "# pattern = r'^([a-z]{' + re.escape(str(n)) + '})$'\n",
    "pattern = r'^(.{' + re.escape(str(n)) + '})$'\n",
    "re.search(pattern, 'asdasda').groups()"
   ]
  },
  {
   "cell_type": "code",
   "execution_count": null,
   "metadata": {},
   "outputs": [],
   "source": [
    "class Dog:\n",
    "\n",
    "    # Class Attribute\n",
    "    species = 'mammal'\n",
    "\n",
    "    # Initializer / Instance Attributes\n",
    "    def __init__(self, name, age):\n",
    "        self.name = name\n",
    "        self.age = age\n",
    "\n",
    "\n",
    "# Instantiate the Dog object\n",
    "philo = Dog(\"Philo\", 5)\n",
    "mikey = Dog(\"Mikey\", 6)\n",
    "\n",
    "# Access the instance attributes\n",
    "print(\"{} is {} and {} is {}.\".format(\n",
    "    philo.name, philo.age, mikey.name, mikey.age))\n",
    "\n",
    "# Is Philo a mammal?\n",
    "if philo.species == \"mammal\":\n",
    "    print(\"{0} is a {1}!\".format(philo.name, philo.species))"
   ]
  },
  {
   "cell_type": "code",
   "execution_count": 321,
   "metadata": {},
   "outputs": [],
   "source": [
    "class hangman: \n",
    "    \n",
    "    # Constructor \n",
    "    # Instance variables = [word, length, regex pattern, dictionary of characters, \n",
    "    #                       list of characters, number of wrong guesses]\n",
    "    def __init__(self, word): \n",
    "        self.word = word # secret word \n",
    "        self.length = len(word) #length of word \n",
    "        self.pattern = r'^(.{' + re.escape(str(self.length)) + '})$' # regex pattern of game\n",
    "        self.charDict = {} # dictionary of all attempted characters\n",
    "        self.charList = [] # list of successful characters \n",
    "        for x in range(self.length):\n",
    "            self.charList.append('.') \n",
    "        self.wrong_guesses = 0 # number of wrong guesses \n",
    "    \n",
    "    # attempt a character \n",
    "    # increment wrong guess by 1 if incorrect \n",
    "    # do not let the same letter be tried twice \n",
    "    def attempt(self, char): \n",
    "        x = self.charDict.get(char, 0)\n",
    "        if x == 0: \n",
    "            self.charDict[char] = True \n",
    "            indexList = self.find(char)\n",
    "            if len(indexList) == 0: \n",
    "                self.wrong_guesses += 1 \n",
    "                print('bad guess')\n",
    "            for index in indexList:\n",
    "                self.charList[index] = self.word[index]\n",
    "            self.pattern = self.arrToRegex(self.charList)\n",
    "\n",
    "        else:\n",
    "            print(\"you've already tried this letter\")\n",
    "    \n",
    "    \n",
    "    # find the indices at which character ch appears \n",
    "    def find(self, ch):\n",
    "        return [i for i, ltr in enumerate(self.word) if ltr == ch]\n",
    "\n",
    "    # convert a list of characters to regex \n",
    "    def arrToRegex(self, list_of_characters):\n",
    "        reg = r'^('\n",
    "        for item in list_of_characters: \n",
    "            reg = reg + item \n",
    "        reg = reg + ')$' \n",
    "        return reg \n",
    "            \n",
    "    # return the regex pattern \n",
    "    def regex(self): \n",
    "        return self.pattern\n",
    "    \n",
    "    # remove all words that do not have a particular character \n",
    "    def remove(self, list_of_words, char):\n",
    "        list_of_matches = []\n",
    "        pattern = r'(.*' + char + '.*)'\n",
    "        for item in list_of_words:\n",
    "            x = re.match(pattern, item)\n",
    "            if x == None:\n",
    "                list_of_matches.append(item)\n",
    "        return list_of_matches\n",
    "\n",
    "    # return all regex matches from a list of words \n",
    "    def match(self, list_of_words, pattern):\n",
    "        list_of_matches = []\n",
    "        for item in list_of_words: \n",
    "            x = re.search(pattern, item)\n",
    "            if x != None:\n",
    "                list_of_matches.append(item)\n",
    "        return list_of_matches \n",
    "\n",
    "    # frequency of characters given a list of words \n",
    "    def charFrequency(self, list_of_words): \n",
    "        dict_of_characters = {}\n",
    "        for item in list_of_words: \n",
    "            arr_char = list(item)\n",
    "            for x in arr_char: \n",
    "                dict_of_characters[x] = dict_of_characters.get(x, 0) + 1\n",
    "        return dict_of_characters \n",
    "\n",
    "    # guess the next words \n",
    "    def greedy_guess(self, list_of_words):\n",
    "        freq_char = self.charFrequency(list_of_words)\n",
    "        temp_freq_char = self.charFrequency(list_of_words)\n",
    "        for item in temp_freq_char:\n",
    "            x = self.charDict.get(item, 0)\n",
    "            if x != 0: \n",
    "                del freq_char[item]\n",
    "        freq_char_keys = list(freq_char.keys())\n",
    "        freq_char_values = list(freq_char.values())\n",
    "        maxIndex = np.where(freq_char_values == np.amax(freq_char_values))[0]\n",
    "        return freq_char_keys[np.random.choice(maxIndex)]\n",
    "        "
   ]
  },
  {
   "cell_type": "code",
   "execution_count": 227,
   "metadata": {},
   "outputs": [],
   "source": [
    "h1 = hangman('michael gintz')"
   ]
  },
  {
   "cell_type": "code",
   "execution_count": 236,
   "metadata": {},
   "outputs": [],
   "source": [
    "h1.attempt('z')"
   ]
  },
  {
   "cell_type": "code",
   "execution_count": 237,
   "metadata": {},
   "outputs": [
    {
     "data": {
      "text/plain": [
       "3"
      ]
     },
     "execution_count": 237,
     "metadata": {},
     "output_type": "execute_result"
    }
   ],
   "source": [
    "h1.wrong_guesses"
   ]
  }
 ],
 "metadata": {
  "kernelspec": {
   "display_name": "Python 3",
   "language": "python",
   "name": "python3"
  },
  "language_info": {
   "codemirror_mode": {
    "name": "ipython",
    "version": 3
   },
   "file_extension": ".py",
   "mimetype": "text/x-python",
   "name": "python",
   "nbconvert_exporter": "python",
   "pygments_lexer": "ipython3",
   "version": "3.7.3"
  }
 },
 "nbformat": 4,
 "nbformat_minor": 2
}
