{
 "cells": [
  {
   "cell_type": "code",
   "execution_count": null,
   "metadata": {},
   "outputs": [],
   "source": [
    "import pickle\n",
    "import os \n",
    "import re "
   ]
  },
  {
   "cell_type": "code",
   "execution_count": null,
   "metadata": {},
   "outputs": [],
   "source": [
    "'''\n",
    "All input and output objects & files for this project. \n",
    "Files are stored in txt or pickle format. \n",
    "--------------------------------------------------------------------------\n",
    "\n",
    "[0] words.txt: line delimited file containing all words in the english\n",
    "               language. Contains words with hyphens and numbers. Also\n",
    "               upper case letters. \n",
    "\n",
    "\n",
    "[1] english_words: Array of all english words loaded from words.txt \n",
    "                   Contains words with hyphens and numbers. Possibly\n",
    "                   cleaning required. \n",
    "\n",
    "[2] word_length_english: Dictionary{word: length of word}\n",
    "\n",
    "\n",
    "[3] length_word_english: Dictionary{N: [words of length N]} \n",
    "\n",
    "\n",
    "'''"
   ]
  },
  {
   "cell_type": "code",
   "execution_count": 52,
   "metadata": {},
   "outputs": [],
   "source": [
    "def save_obj(obj, filename): \n",
    "    with open(filename + '.pkl', 'wb+') as f: \n",
    "        pickle.dump(obj, f, pickle.HIGHEST_PROTOCOL)\n",
    "def load_obj(filename): \n",
    "    with open(filename + '.pkl', 'rb') as f: \n",
    "        return pickle.load(f)"
   ]
  },
  {
   "cell_type": "code",
   "execution_count": 53,
   "metadata": {},
   "outputs": [],
   "source": [
    "english_words = []\n",
    "with open('words.txt') as f: \n",
    "    for line in f: \n",
    "        english_words.append(line[:-1]) # [:-1] because the newline character has to be eliminated \n",
    "save_obj(english_words, 'english_words')"
   ]
  },
  {
   "cell_type": "code",
   "execution_count": 58,
   "metadata": {},
   "outputs": [],
   "source": [
    "word_length = {}\n",
    "length_word = {}\n",
    "\n",
    "def insert(word):\n",
    "    # check if the word is duplicate \n",
    "    a = word_length.get(word, 0)\n",
    "    if a == 0:\n",
    "        N = len(word)\n",
    "        # insert in word_length\n",
    "        word_length[word] = N \n",
    "        # insert in length_word \n",
    "        li1 = length_word.get(N, 0)\n",
    "        if li1 != 0: \n",
    "            li1.append(word)\n",
    "            length_word[N] = li1\n",
    "        else:\n",
    "            length_word[N] = [word]\n",
    "            \n",
    "for item in english_words: \n",
    "    insert(item)\n",
    "    \n",
    "save_obj(word_length, 'word_length_english')\n",
    "save_obj(length_word, 'length_word_english')"
   ]
  },
  {
   "cell_type": "code",
   "execution_count": null,
   "metadata": {},
   "outputs": [],
   "source": []
  }
 ],
 "metadata": {
  "kernelspec": {
   "display_name": "Python 3",
   "language": "python",
   "name": "python3"
  },
  "language_info": {
   "codemirror_mode": {
    "name": "ipython",
    "version": 3
   },
   "file_extension": ".py",
   "mimetype": "text/x-python",
   "name": "python",
   "nbconvert_exporter": "python",
   "pygments_lexer": "ipython3",
   "version": "3.7.3"
  }
 },
 "nbformat": 4,
 "nbformat_minor": 2
}
