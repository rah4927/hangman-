{
 "cells": [
  {
   "cell_type": "code",
   "execution_count": 1,
   "metadata": {},
   "outputs": [],
   "source": [
    "import numpy as np \n",
    "import pickle \n",
    "import os \n",
    "import re \n",
    "import time as tm\n",
    "import pandas\n",
    "from collections import Counter"
   ]
  },
  {
   "cell_type": "code",
   "execution_count": 2,
   "metadata": {},
   "outputs": [],
   "source": [
    "def save_obj(obj, filename): \n",
    "    with open('data/' + filename + '.pkl', 'wb+') as f: \n",
    "        pickle.dump(obj, f, pickle.HIGHEST_PROTOCOL)\n",
    "def load_obj(filename): \n",
    "    with open('data/' + filename + '.pkl', 'rb') as f: \n",
    "        return pickle.load(f)"
   ]
  },
  {
   "cell_type": "code",
   "execution_count": 3,
   "metadata": {},
   "outputs": [],
   "source": [
    "class hangman: \n",
    "    \n",
    "    # Constructor \n",
    "    # Instance variables = [word, length, regex pattern, dictionary of characters, \n",
    "    #                       list of characters, number of wrong guesses]\n",
    "    def __init__(self, word): \n",
    "        self.word = word # secret word \n",
    "        self.length = len(word) #length of word \n",
    "        self.pattern = r'^(.{' + re.escape(str(self.length)) + '})$' # regex pattern of game\n",
    "        self.charDict = {} # dictionary of all attempted characters\n",
    "        self.charList = [] # list of successful characters \n",
    "        for x in range(self.length):\n",
    "            self.charList.append('.') \n",
    "        self.wrong_guesses = 0 # number of wrong guesses \n",
    "        self.correct = 0 \n",
    "    \n",
    "    # attempt a character \n",
    "    # increment wrong guess by 1 if incorrect \n",
    "    # do not let the same letter be tried twice \n",
    "    # returns boolean if char is present/absent \n",
    "    def attempt(self, char): \n",
    "        x = self.charDict.get(char, 0)\n",
    "        if x == 0: \n",
    "            self.charDict[char] = True \n",
    "            indexList = self.find(char)\n",
    "            self.correct += len(indexList)\n",
    "            if len(indexList) == 0: \n",
    "                self.wrong_guesses += 1 \n",
    "                # print('bad guess')\n",
    "            for index in indexList:\n",
    "                self.charList[index] = self.word[index]\n",
    "            self.pattern = self.arrToRegex(self.charList)\n",
    "            return len(indexList) != 0  \n",
    "\n",
    "        else:\n",
    "            print(\"you've already tried this letter\")\n",
    "    \n",
    "    \n",
    "    # find the indices at which character ch appears \n",
    "    def find(self, ch):\n",
    "        return [i for i, ltr in enumerate(self.word) if ltr == ch]\n",
    "\n",
    "    # convert a list of characters to regex \n",
    "    def arrToRegex(self, list_of_characters):\n",
    "        reg = r'^('\n",
    "        for item in list_of_characters: \n",
    "            reg = reg + item \n",
    "        reg = reg + ')$' \n",
    "        return reg \n",
    "            \n",
    "    # return the regex pattern \n",
    "    def regex(self): \n",
    "        return self.pattern\n",
    "    \n",
    "    # remove all words that do not have a particular character \n",
    "    def remove(self, list_of_words, char):\n",
    "        list_of_matches = []\n",
    "        pattern = r'(.*' + char + '.*)'\n",
    "        for item in list_of_words:\n",
    "            x = re.match(pattern, item)\n",
    "            if x == None:\n",
    "                list_of_matches.append(item)\n",
    "        return list_of_matches\n",
    "\n",
    "    # return all regex matches from a list of words \n",
    "    def match(self, list_of_words, pattern):\n",
    "        list_of_matches = []\n",
    "        for item in list_of_words: \n",
    "            x = re.search(pattern, item)\n",
    "            if x != None:\n",
    "                list_of_matches.append(item)\n",
    "        return list_of_matches \n",
    "\n",
    "    # frequency of characters given a list of words \n",
    "    def charFrequency(self, list_of_words): \n",
    "        dict_of_characters = {}\n",
    "        for item in list_of_words: \n",
    "            arr_char = list(item)\n",
    "            for x in arr_char: \n",
    "                dict_of_characters[x] = dict_of_characters.get(x, 0) + 1\n",
    "        return dict_of_characters \n",
    "\n",
    "    # guess the next words \n",
    "    def greedy_guess(self, list_of_words):\n",
    "        freq_char = self.charFrequency(list_of_words)\n",
    "        temp_freq_char = self.charFrequency(list_of_words)\n",
    "        for item in temp_freq_char:\n",
    "            x = self.charDict.get(item, 0)\n",
    "            if x != 0: \n",
    "                del freq_char[item]\n",
    "        freq_char_keys = list(freq_char.keys())\n",
    "        freq_char_values = list(freq_char.values())\n",
    "        maxIndex = np.where(freq_char_values == np.amax(freq_char_values))[0]\n",
    "        return freq_char_keys[np.random.choice(maxIndex)]\n",
    "    \n",
    "    def charSet(self, list_of_words):\n",
    "        dict_of_characters = {}\n",
    "        for item in list_of_words:\n",
    "            arr_char = dict(zip(list(item), list(item))).keys()\n",
    "            for x in arr_char:\n",
    "                dict_of_characters[x] = dict_of_characters.get(x, 0) + 1\n",
    "        return dict_of_characters \n",
    "    \n",
    "    # guess the next words \n",
    "    def greedy_set(self, list_of_words):\n",
    "        freq_char = self.charSet(list_of_words)\n",
    "        temp_freq_char = self.charSet(list_of_words)\n",
    "        for item in temp_freq_char:\n",
    "            x = self.charDict.get(item, 0)\n",
    "            if x != 0: \n",
    "                del freq_char[item]\n",
    "        freq_char_keys = list(freq_char.keys())\n",
    "        freq_char_values = list(freq_char.values())\n",
    "        maxIndex = np.where(freq_char_values == np.amax(freq_char_values))[0]\n",
    "        return freq_char_keys[maxIndex[0]]\n",
    "    \n",
    "    def game(self):\n",
    "        word = self.word\n",
    "        low = length_word[len(word)]\n",
    "        while self.correct != len(word): \n",
    "            a = self.greedy_guess(low)\n",
    "            if (self.attempt(a)): \n",
    "                low = self.match(low, self.regex())\n",
    "        \n",
    "    def game_set(self):\n",
    "        word = self.word\n",
    "        low = length_word[len(word)]\n",
    "        while self.correct != len(word): \n",
    "            a = self.greedy_set(low)\n",
    "            if (self.attempt(a)): \n",
    "                low = self.match(low, self.regex())"
   ]
  },
  {
   "cell_type": "code",
   "execution_count": 4,
   "metadata": {},
   "outputs": [],
   "source": [
    "english_words = load_obj('english_words')\n",
    "word_length = load_obj('word_length_english')\n",
    "length_word = load_obj('length_word_english')"
   ]
  },
  {
   "cell_type": "code",
   "execution_count": 6,
   "metadata": {},
   "outputs": [],
   "source": [
    "# returns N random words from dictionary \n",
    "def randomWord(N): \n",
    "    return [english_words[i] for i in np.random.choice(len(english_words), N)]\n",
    "    "
   ]
  },
  {
   "cell_type": "code",
   "execution_count": 13,
   "metadata": {},
   "outputs": [],
   "source": [
    "# sort dictionary by keys\n",
    "# keys are assumed to be real numbers \n",
    "def sort_dict(mydict1): \n",
    "    x = list(mydict1.keys())\n",
    "    y = np.argsort(x)\n",
    "    x = np.sort(x)\n",
    "    z = list(mydict1.values())\n",
    "    k = []\n",
    "    for i in range(len(z)): \n",
    "        k.append(z[i])\n",
    "    mydict2 = dict(zip(x, k))\n",
    "    return mydict2\n",
    "    "
   ]
  },
  {
   "cell_type": "code",
   "execution_count": 14,
   "metadata": {},
   "outputs": [],
   "source": [
    "def plot_frequency(a):\n",
    "    letter_counts = Counter(a)\n",
    "    letter_counts = sort_dict(letter_counts)\n",
    "    df = pandas.DataFrame.from_dict(letter_counts, orient='index')\n",
    "    df.plot(kind='bar')"
   ]
  },
  {
   "cell_type": "code",
   "execution_count": 8,
   "metadata": {},
   "outputs": [],
   "source": [
    "# # create a dataset of 10k words \n",
    "# words = randomWord(10000)\n",
    "# save_obj(words, '10k_words')"
   ]
  },
  {
   "cell_type": "code",
   "execution_count": 10,
   "metadata": {},
   "outputs": [],
   "source": [
    "words = load_obj('10k_words')"
   ]
  },
  {
   "cell_type": "code",
   "execution_count": 53,
   "metadata": {},
   "outputs": [
    {
     "name": "stdout",
     "output_type": "stream",
     "text": [
      "2105.5402266979218\n"
     ]
    }
   ],
   "source": [
    "# test the greedy heuristic \n",
    "# 2105.54 seconds \n",
    "timeline = tm.time()\n",
    "wrong_guesses = []\n",
    "for item in words: \n",
    "    h1 = hangman(item)\n",
    "    h1.game()\n",
    "    wrong_guesses.append(h1.wrong_guesses)\n",
    "\n",
    "print(tm.time() - timeline)\n",
    "save_obj(wrong_guesses, '10k_greedy_stats')"
   ]
  },
  {
   "cell_type": "code",
   "execution_count": 79,
   "metadata": {},
   "outputs": [
    {
     "data": {
      "image/png": "[encoded data removed]",
      "text/plain": [
       "<Figure size 432x288 with 1 Axes>"
      ]
     },
     "metadata": {
      "needs_background": "light"
     },
     "output_type": "display_data"
    }
   ],
   "source": [
    "plot_frequency(wrong_guesses)"
   ]
  },
  {
   "cell_type": "code",
   "execution_count": 11,
   "metadata": {},
   "outputs": [
    {
     "name": "stdout",
     "output_type": "stream",
     "text": [
      "30.04378628730774\n"
     ]
    }
   ],
   "source": [
    "# test the greedy no repetition heuristic  \n",
    "timeline = tm.time()\n",
    "wrong_guesses = []\n",
    "words = words[:100]\n",
    "for item in words: \n",
    "    h1 = hangman(item)\n",
    "    h1.game_set()\n",
    "    wrong_guesses.append(h1.wrong_guesses)\n",
    "\n",
    "print(tm.time() - timeline)\n",
    "save_obj(wrong_guesses, '10k_greedy_set_stats')"
   ]
  },
  {
   "cell_type": "code",
   "execution_count": 16,
   "metadata": {},
   "outputs": [
    {
     "data": {
      "image/png": "[encoded data removed]",
      "text/plain": [
       "<Figure size 432x288 with 1 Axes>"
      ]
     },
     "metadata": {
      "needs_background": "light"
     },
     "output_type": "display_data"
    }
   ],
   "source": [
    "plot_frequency(wrong_guesses)"
   ]
  },
  {
   "cell_type": "code",
   "execution_count": null,
   "metadata": {},
   "outputs": [],
   "source": []
  }
 ],
 "metadata": {
  "kernelspec": {
   "display_name": "Python 3",
   "language": "python",
   "name": "python3"
  },
  "language_info": {
   "codemirror_mode": {
    "name": "ipython",
    "version": 3
   },
   "file_extension": ".py",
   "mimetype": "text/x-python",
   "name": "python",
   "nbconvert_exporter": "python",
   "pygments_lexer": "ipython3",
   "version": "3.7.3"
  }
 },
 "nbformat": 4,
 "nbformat_minor": 2
}
